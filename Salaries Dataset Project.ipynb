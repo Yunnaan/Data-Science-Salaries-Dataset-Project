{
 "cells": [
  {
   "cell_type": "markdown",
   "id": "00e1fb69",
   "metadata": {},
   "source": [
    "# Importing Libraries"
   ]
  },
  {
   "cell_type": "code",
   "execution_count": 101,
   "id": "c42a6974",
   "metadata": {},
   "outputs": [],
   "source": [
    "import numpy as np\n",
    "import pandas as pd\n",
    "import seaborn as sns\n",
    "import matplotlib.pyplot as plt\n",
    "%matplotlib inline"
   ]
  },
  {
   "cell_type": "code",
   "execution_count": 102,
   "id": "b43a1291",
   "metadata": {},
   "outputs": [],
   "source": [
    "import warnings\n",
    "warnings.filterwarnings ('ignore')"
   ]
  },
  {
   "cell_type": "markdown",
   "id": "10388760",
   "metadata": {},
   "source": [
    "# Importing Dataset"
   ]
  },
  {
   "cell_type": "code",
   "execution_count": 103,
   "id": "62c80abe",
   "metadata": {},
   "outputs": [
    {
     "data": {
      "text/html": [
       "<div>\n",
       "<style scoped>\n",
       "    .dataframe tbody tr th:only-of-type {\n",
       "        vertical-align: middle;\n",
       "    }\n",
       "\n",
       "    .dataframe tbody tr th {\n",
       "        vertical-align: top;\n",
       "    }\n",
       "\n",
       "    .dataframe thead th {\n",
       "        text-align: right;\n",
       "    }\n",
       "</style>\n",
       "<table border=\"1\" class=\"dataframe\">\n",
       "  <thead>\n",
       "    <tr style=\"text-align: right;\">\n",
       "      <th></th>\n",
       "      <th>Unnamed: 0</th>\n",
       "      <th>work_year</th>\n",
       "      <th>experience_level</th>\n",
       "      <th>employment_type</th>\n",
       "      <th>job_title</th>\n",
       "      <th>salary</th>\n",
       "      <th>salary_currency</th>\n",
       "      <th>salary_in_usd</th>\n",
       "      <th>employee_residence</th>\n",
       "      <th>remote_ratio</th>\n",
       "      <th>company_location</th>\n",
       "      <th>company_size</th>\n",
       "    </tr>\n",
       "  </thead>\n",
       "  <tbody>\n",
       "    <tr>\n",
       "      <th>0</th>\n",
       "      <td>0</td>\n",
       "      <td>2020</td>\n",
       "      <td>MI</td>\n",
       "      <td>FT</td>\n",
       "      <td>Data Scientist</td>\n",
       "      <td>70000</td>\n",
       "      <td>EUR</td>\n",
       "      <td>79833</td>\n",
       "      <td>DE</td>\n",
       "      <td>0</td>\n",
       "      <td>DE</td>\n",
       "      <td>L</td>\n",
       "    </tr>\n",
       "    <tr>\n",
       "      <th>1</th>\n",
       "      <td>1</td>\n",
       "      <td>2020</td>\n",
       "      <td>SE</td>\n",
       "      <td>FT</td>\n",
       "      <td>Machine Learning Scientist</td>\n",
       "      <td>260000</td>\n",
       "      <td>USD</td>\n",
       "      <td>260000</td>\n",
       "      <td>JP</td>\n",
       "      <td>0</td>\n",
       "      <td>JP</td>\n",
       "      <td>S</td>\n",
       "    </tr>\n",
       "    <tr>\n",
       "      <th>2</th>\n",
       "      <td>2</td>\n",
       "      <td>2020</td>\n",
       "      <td>SE</td>\n",
       "      <td>FT</td>\n",
       "      <td>Big Data Engineer</td>\n",
       "      <td>85000</td>\n",
       "      <td>GBP</td>\n",
       "      <td>109024</td>\n",
       "      <td>GB</td>\n",
       "      <td>50</td>\n",
       "      <td>GB</td>\n",
       "      <td>M</td>\n",
       "    </tr>\n",
       "    <tr>\n",
       "      <th>3</th>\n",
       "      <td>3</td>\n",
       "      <td>2020</td>\n",
       "      <td>MI</td>\n",
       "      <td>FT</td>\n",
       "      <td>Product Data Analyst</td>\n",
       "      <td>20000</td>\n",
       "      <td>USD</td>\n",
       "      <td>20000</td>\n",
       "      <td>HN</td>\n",
       "      <td>0</td>\n",
       "      <td>HN</td>\n",
       "      <td>S</td>\n",
       "    </tr>\n",
       "    <tr>\n",
       "      <th>4</th>\n",
       "      <td>4</td>\n",
       "      <td>2020</td>\n",
       "      <td>SE</td>\n",
       "      <td>FT</td>\n",
       "      <td>Machine Learning Engineer</td>\n",
       "      <td>150000</td>\n",
       "      <td>USD</td>\n",
       "      <td>150000</td>\n",
       "      <td>US</td>\n",
       "      <td>50</td>\n",
       "      <td>US</td>\n",
       "      <td>L</td>\n",
       "    </tr>\n",
       "  </tbody>\n",
       "</table>\n",
       "</div>"
      ],
      "text/plain": [
       "   Unnamed: 0  work_year experience_level employment_type  \\\n",
       "0           0       2020               MI              FT   \n",
       "1           1       2020               SE              FT   \n",
       "2           2       2020               SE              FT   \n",
       "3           3       2020               MI              FT   \n",
       "4           4       2020               SE              FT   \n",
       "\n",
       "                    job_title  salary salary_currency  salary_in_usd  \\\n",
       "0              Data Scientist   70000             EUR          79833   \n",
       "1  Machine Learning Scientist  260000             USD         260000   \n",
       "2           Big Data Engineer   85000             GBP         109024   \n",
       "3        Product Data Analyst   20000             USD          20000   \n",
       "4   Machine Learning Engineer  150000             USD         150000   \n",
       "\n",
       "  employee_residence  remote_ratio company_location company_size  \n",
       "0                 DE             0               DE            L  \n",
       "1                 JP             0               JP            S  \n",
       "2                 GB            50               GB            M  \n",
       "3                 HN             0               HN            S  \n",
       "4                 US            50               US            L  "
      ]
     },
     "execution_count": 103,
     "metadata": {},
     "output_type": "execute_result"
    }
   ],
   "source": [
    "ds = pd.read_csv('ds.salaries.csv')\n",
    "ds.head()"
   ]
  },
  {
   "cell_type": "markdown",
   "id": "f1262e54",
   "metadata": {},
   "source": [
    "# Overview of the Salaries Dataset"
   ]
  },
  {
   "cell_type": "code",
   "execution_count": 104,
   "id": "873c40c2",
   "metadata": {},
   "outputs": [
    {
     "name": "stdout",
     "output_type": "stream",
     "text": [
      "<class 'pandas.core.frame.DataFrame'>\n",
      "RangeIndex: 607 entries, 0 to 606\n",
      "Data columns (total 12 columns):\n",
      " #   Column              Non-Null Count  Dtype \n",
      "---  ------              --------------  ----- \n",
      " 0   Unnamed: 0          607 non-null    int64 \n",
      " 1   work_year           607 non-null    int64 \n",
      " 2   experience_level    607 non-null    object\n",
      " 3   employment_type     607 non-null    object\n",
      " 4   job_title           607 non-null    object\n",
      " 5   salary              607 non-null    int64 \n",
      " 6   salary_currency     607 non-null    object\n",
      " 7   salary_in_usd       607 non-null    int64 \n",
      " 8   employee_residence  607 non-null    object\n",
      " 9   remote_ratio        607 non-null    int64 \n",
      " 10  company_location    607 non-null    object\n",
      " 11  company_size        607 non-null    object\n",
      "dtypes: int64(5), object(7)\n",
      "memory usage: 57.0+ KB\n"
     ]
    }
   ],
   "source": [
    "ds.info()"
   ]
  },
  {
   "cell_type": "code",
   "execution_count": 105,
   "id": "29c6433b",
   "metadata": {},
   "outputs": [
    {
     "data": {
      "text/plain": [
       "(607, 12)"
      ]
     },
     "execution_count": 105,
     "metadata": {},
     "output_type": "execute_result"
    }
   ],
   "source": [
    "ds.shape"
   ]
  },
  {
   "cell_type": "code",
   "execution_count": 106,
   "id": "489095da",
   "metadata": {},
   "outputs": [
    {
     "data": {
      "text/html": [
       "<div>\n",
       "<style scoped>\n",
       "    .dataframe tbody tr th:only-of-type {\n",
       "        vertical-align: middle;\n",
       "    }\n",
       "\n",
       "    .dataframe tbody tr th {\n",
       "        vertical-align: top;\n",
       "    }\n",
       "\n",
       "    .dataframe thead th {\n",
       "        text-align: right;\n",
       "    }\n",
       "</style>\n",
       "<table border=\"1\" class=\"dataframe\">\n",
       "  <thead>\n",
       "    <tr style=\"text-align: right;\">\n",
       "      <th></th>\n",
       "      <th>Unnamed: 0</th>\n",
       "      <th>work_year</th>\n",
       "      <th>salary</th>\n",
       "      <th>salary_in_usd</th>\n",
       "      <th>remote_ratio</th>\n",
       "    </tr>\n",
       "  </thead>\n",
       "  <tbody>\n",
       "    <tr>\n",
       "      <th>count</th>\n",
       "      <td>607.000000</td>\n",
       "      <td>607.000000</td>\n",
       "      <td>6.070000e+02</td>\n",
       "      <td>607.000000</td>\n",
       "      <td>607.00000</td>\n",
       "    </tr>\n",
       "    <tr>\n",
       "      <th>mean</th>\n",
       "      <td>303.000000</td>\n",
       "      <td>2021.405272</td>\n",
       "      <td>3.240001e+05</td>\n",
       "      <td>112297.869852</td>\n",
       "      <td>70.92257</td>\n",
       "    </tr>\n",
       "    <tr>\n",
       "      <th>std</th>\n",
       "      <td>175.370085</td>\n",
       "      <td>0.692133</td>\n",
       "      <td>1.544357e+06</td>\n",
       "      <td>70957.259411</td>\n",
       "      <td>40.70913</td>\n",
       "    </tr>\n",
       "    <tr>\n",
       "      <th>min</th>\n",
       "      <td>0.000000</td>\n",
       "      <td>2020.000000</td>\n",
       "      <td>4.000000e+03</td>\n",
       "      <td>2859.000000</td>\n",
       "      <td>0.00000</td>\n",
       "    </tr>\n",
       "    <tr>\n",
       "      <th>25%</th>\n",
       "      <td>151.500000</td>\n",
       "      <td>2021.000000</td>\n",
       "      <td>7.000000e+04</td>\n",
       "      <td>62726.000000</td>\n",
       "      <td>50.00000</td>\n",
       "    </tr>\n",
       "    <tr>\n",
       "      <th>50%</th>\n",
       "      <td>303.000000</td>\n",
       "      <td>2022.000000</td>\n",
       "      <td>1.150000e+05</td>\n",
       "      <td>101570.000000</td>\n",
       "      <td>100.00000</td>\n",
       "    </tr>\n",
       "    <tr>\n",
       "      <th>75%</th>\n",
       "      <td>454.500000</td>\n",
       "      <td>2022.000000</td>\n",
       "      <td>1.650000e+05</td>\n",
       "      <td>150000.000000</td>\n",
       "      <td>100.00000</td>\n",
       "    </tr>\n",
       "    <tr>\n",
       "      <th>max</th>\n",
       "      <td>606.000000</td>\n",
       "      <td>2022.000000</td>\n",
       "      <td>3.040000e+07</td>\n",
       "      <td>600000.000000</td>\n",
       "      <td>100.00000</td>\n",
       "    </tr>\n",
       "  </tbody>\n",
       "</table>\n",
       "</div>"
      ],
      "text/plain": [
       "       Unnamed: 0    work_year        salary  salary_in_usd  remote_ratio\n",
       "count  607.000000   607.000000  6.070000e+02     607.000000     607.00000\n",
       "mean   303.000000  2021.405272  3.240001e+05  112297.869852      70.92257\n",
       "std    175.370085     0.692133  1.544357e+06   70957.259411      40.70913\n",
       "min      0.000000  2020.000000  4.000000e+03    2859.000000       0.00000\n",
       "25%    151.500000  2021.000000  7.000000e+04   62726.000000      50.00000\n",
       "50%    303.000000  2022.000000  1.150000e+05  101570.000000     100.00000\n",
       "75%    454.500000  2022.000000  1.650000e+05  150000.000000     100.00000\n",
       "max    606.000000  2022.000000  3.040000e+07  600000.000000     100.00000"
      ]
     },
     "execution_count": 106,
     "metadata": {},
     "output_type": "execute_result"
    }
   ],
   "source": [
    "ds.describe()"
   ]
  },
  {
   "cell_type": "code",
   "execution_count": 107,
   "id": "b1320fac",
   "metadata": {},
   "outputs": [
    {
     "data": {
      "text/plain": [
       "0      False\n",
       "1      False\n",
       "2      False\n",
       "3      False\n",
       "4      False\n",
       "       ...  \n",
       "602    False\n",
       "603    False\n",
       "604    False\n",
       "605    False\n",
       "606    False\n",
       "Length: 607, dtype: bool"
      ]
     },
     "execution_count": 107,
     "metadata": {},
     "output_type": "execute_result"
    }
   ],
   "source": [
    "ds.duplicated()"
   ]
  },
  {
   "cell_type": "code",
   "execution_count": 108,
   "id": "b25d13bd",
   "metadata": {},
   "outputs": [
    {
     "data": {
      "text/plain": [
       "Unnamed: 0            0\n",
       "work_year             0\n",
       "experience_level      0\n",
       "employment_type       0\n",
       "job_title             0\n",
       "salary                0\n",
       "salary_currency       0\n",
       "salary_in_usd         0\n",
       "employee_residence    0\n",
       "remote_ratio          0\n",
       "company_location      0\n",
       "company_size          0\n",
       "dtype: int64"
      ]
     },
     "execution_count": 108,
     "metadata": {},
     "output_type": "execute_result"
    }
   ],
   "source": [
    "ds.isnull().sum()"
   ]
  },
  {
   "cell_type": "markdown",
   "id": "b35346b1",
   "metadata": {},
   "source": [
    "# Data Abreviation explanation\n",
    "Experience level Entry Level = EN, Mid-Level = MI, Senior Level or Expert = SE, Executive - Level / Director = EX\n",
    "\n",
    "Employment Type Part Time = PT, Full Time = FT, Contract = CT, Freelance = FL\n",
    "\n",
    "Remote Ratio No remote work (less than 20%) = 0 (onsite), Partially Remote = 50 (hybrid), Fully remote (more than 80%) = 100 (remote)\n",
    "\n",
    "Company Size Less than 50 employees = Small (s) 50 to 250 employees = Medium (M) More than 250 employees = Large (L)"
   ]
  },
  {
   "cell_type": "code",
   "execution_count": 109,
   "id": "0672c48e",
   "metadata": {},
   "outputs": [
    {
     "data": {
      "text/plain": [
       "Data Scientist                              143\n",
       "Data Engineer                               132\n",
       "Data Analyst                                 97\n",
       "Machine Learning Engineer                    41\n",
       "Research Scientist                           16\n",
       "Data Science Manager                         12\n",
       "Data Architect                               11\n",
       "Big Data Engineer                             8\n",
       "Machine Learning Scientist                    8\n",
       "Principal Data Scientist                      7\n",
       "AI Scientist                                  7\n",
       "Data Science Consultant                       7\n",
       "Director of Data Science                      7\n",
       "Data Analytics Manager                        7\n",
       "ML Engineer                                   6\n",
       "Computer Vision Engineer                      6\n",
       "BI Data Analyst                               6\n",
       "Lead Data Engineer                            6\n",
       "Data Engineering Manager                      5\n",
       "Business Data Analyst                         5\n",
       "Head of Data                                  5\n",
       "Applied Data Scientist                        5\n",
       "Applied Machine Learning Scientist            4\n",
       "Head of Data Science                          4\n",
       "Analytics Engineer                            4\n",
       "Data Analytics Engineer                       4\n",
       "Machine Learning Developer                    3\n",
       "Machine Learning Infrastructure Engineer      3\n",
       "Lead Data Scientist                           3\n",
       "Computer Vision Software Engineer             3\n",
       "Lead Data Analyst                             3\n",
       "Data Science Engineer                         3\n",
       "Principal Data Engineer                       3\n",
       "Principal Data Analyst                        2\n",
       "ETL Developer                                 2\n",
       "Product Data Analyst                          2\n",
       "Director of Data Engineering                  2\n",
       "Financial Data Analyst                        2\n",
       "Cloud Data Engineer                           2\n",
       "Lead Machine Learning Engineer                1\n",
       "NLP Engineer                                  1\n",
       "Head of Machine Learning                      1\n",
       "3D Computer Vision Researcher                 1\n",
       "Data Specialist                               1\n",
       "Staff Data Scientist                          1\n",
       "Big Data Architect                            1\n",
       "Finance Data Analyst                          1\n",
       "Marketing Data Analyst                        1\n",
       "Machine Learning Manager                      1\n",
       "Data Analytics Lead                           1\n",
       "Name: job_title, dtype: int64"
      ]
     },
     "execution_count": 109,
     "metadata": {},
     "output_type": "execute_result"
    }
   ],
   "source": [
    "ds['job_title'].value_counts()"
   ]
  },
  {
   "cell_type": "code",
   "execution_count": 110,
   "id": "bd9fab7b",
   "metadata": {},
   "outputs": [
    {
     "data": {
      "text/plain": [
       "SE    280\n",
       "MI    213\n",
       "EN     88\n",
       "EX     26\n",
       "Name: experience_level, dtype: int64"
      ]
     },
     "execution_count": 110,
     "metadata": {},
     "output_type": "execute_result"
    }
   ],
   "source": [
    "ds['experience_level'].value_counts()"
   ]
  },
  {
   "cell_type": "code",
   "execution_count": 111,
   "id": "06ee3f18",
   "metadata": {},
   "outputs": [
    {
     "data": {
      "text/plain": [
       "USD    398\n",
       "EUR     95\n",
       "GBP     44\n",
       "INR     27\n",
       "CAD     18\n",
       "JPY      3\n",
       "PLN      3\n",
       "TRY      3\n",
       "CNY      2\n",
       "MXN      2\n",
       "HUF      2\n",
       "DKK      2\n",
       "SGD      2\n",
       "BRL      2\n",
       "AUD      2\n",
       "CLP      1\n",
       "CHF      1\n",
       "Name: salary_currency, dtype: int64"
      ]
     },
     "execution_count": 111,
     "metadata": {},
     "output_type": "execute_result"
    }
   ],
   "source": [
    "ds['salary_currency'].value_counts()"
   ]
  },
  {
   "cell_type": "code",
   "execution_count": 112,
   "id": "e083ae6c",
   "metadata": {},
   "outputs": [
    {
     "data": {
      "text/plain": [
       "FT    588\n",
       "PT     10\n",
       "CT      5\n",
       "FL      4\n",
       "Name: employment_type, dtype: int64"
      ]
     },
     "execution_count": 112,
     "metadata": {},
     "output_type": "execute_result"
    }
   ],
   "source": [
    "ds['employment_type'].value_counts()"
   ]
  },
  {
   "cell_type": "markdown",
   "id": "0f4a5bee",
   "metadata": {},
   "source": [
    "# Exploratory Data Analysis"
   ]
  },
  {
   "cell_type": "markdown",
   "id": "3d34d466",
   "metadata": {},
   "source": [
    "# Univariate Analysis"
   ]
  },
  {
   "cell_type": "code",
   "execution_count": 113,
   "id": "9e98c98b",
   "metadata": {},
   "outputs": [
    {
     "data": {
      "text/plain": [
       "Text(0.5, 1.0, 'Distribution of salary in usd')"
      ]
     },
     "execution_count": 113,
     "metadata": {},
     "output_type": "execute_result"
    },
    {
     "data": {
      "image/png": "[encoded data removed]",
      "text/plain": [
       "<Figure size 1200x700 with 1 Axes>"
      ]
     },
     "metadata": {},
     "output_type": "display_data"
    }
   ],
   "source": [
    "plt.style.use('ggplot')\n",
    "ds[\"salary_in_usd\"].hist(color= \"r\",edgecolor= \"white\",figsize=(12,7))\n",
    "plt.title ('Distribution of salary in usd')"
   ]
  },
  {
   "cell_type": "code",
   "execution_count": 114,
   "id": "0d1808ec",
   "metadata": {},
   "outputs": [
    {
     "data": {
      "text/plain": [
       "Text(0.5, 1.0, 'Distribution of work year')"
      ]
     },
     "execution_count": 114,
     "metadata": {},
     "output_type": "execute_result"
    },
    {
     "data": {
      "image/png": "[encoded data removed]",
      "text/plain": [
       "<Figure size 700x700 with 1 Axes>"
      ]
     },
     "metadata": {},
     "output_type": "display_data"
    }
   ],
   "source": [
    "plt.figure(figsize=(7,7))\n",
    "sns.set_style('darkgrid')\n",
    "sns.countplot(x= \"work_year\", data = ds, palette= \"dark\")\n",
    "plt.title('Distribution of work year')"
   ]
  },
  {
   "cell_type": "code",
   "execution_count": 115,
   "id": "6297470f",
   "metadata": {},
   "outputs": [
    {
     "data": {
      "text/plain": [
       "Text(0.5, 1.0, 'Distribution of Employment type')"
      ]
     },
     "execution_count": 115,
     "metadata": {},
     "output_type": "execute_result"
    },
    {
     "data": {
      "image/png": "[encoded data removed]",
      "text/plain": [
       "<Figure size 700x700 with 1 Axes>"
      ]
     },
     "metadata": {},
     "output_type": "display_data"
    }
   ],
   "source": [
    "plt.figure(figsize=(7,7))\n",
    "sns.set_style('darkgrid')\n",
    "sns.countplot(x= \"employment_type\", data = ds, palette= \"dark\")\n",
    "plt.title ('Distribution of Employment type')"
   ]
  },
  {
   "cell_type": "code",
   "execution_count": 116,
   "id": "a76818f1",
   "metadata": {},
   "outputs": [
    {
     "data": {
      "text/plain": [
       "Text(0.5, 1.0, 'Distribution of Experience Level')"
      ]
     },
     "execution_count": 116,
     "metadata": {},
     "output_type": "execute_result"
    },
    {
     "data": {
      "image/png": "[encoded data removed]",
      "text/plain": [
       "<Figure size 640x480 with 1 Axes>"
      ]
     },
     "metadata": {},
     "output_type": "display_data"
    }
   ],
   "source": [
    "sns.set_style('ticks')\n",
    "sns.countplot(x= \"experience_level\", data = ds, palette= \"Reds_r\")\n",
    "plt.title ('Distribution of Experience Level')"
   ]
  },
  {
   "cell_type": "markdown",
   "id": "7b1d3310",
   "metadata": {},
   "source": [
    "# Bivariate Analysis"
   ]
  },
  {
   "cell_type": "code",
   "execution_count": 117,
   "id": "7c965086",
   "metadata": {},
   "outputs": [
    {
     "data": {
      "text/plain": [
       "Text(0.5, 1.0, 'Showing how salary in usd varies across different experience levels  ')"
      ]
     },
     "execution_count": 117,
     "metadata": {},
     "output_type": "execute_result"
    },
    {
     "data": {
      "image/png": "[encoded data removed]",
      "text/plain": [
       "<Figure size 640x480 with 1 Axes>"
      ]
     },
     "metadata": {},
     "output_type": "display_data"
    }
   ],
   "source": [
    "sns.barplot(x='experience_level',y='salary_in_usd',data= ds, palette= \"dark\")\n",
    "plt.title ('Showing how salary in usd varies across different experience levels  ')"
   ]
  },
  {
   "cell_type": "code",
   "execution_count": 118,
   "id": "199ed91f",
   "metadata": {},
   "outputs": [
    {
     "name": "stdout",
     "output_type": "stream",
     "text": [
      "TOP 5 JOB TITLE WITH HIGHEST SALARIES\n"
     ]
    },
    {
     "data": {
      "image/png": "[encoded data removed]",
      "text/plain": [
       "<Figure size 800x600 with 1 Axes>"
      ]
     },
     "metadata": {},
     "output_type": "display_data"
    }
   ],
   "source": [
    "top_5 = (ds.groupby('job_title')['salary_in_usd'].sum()).nlargest().plot(kind='bar',color=['c','g','m','navy','r'],\n",
    "hatch='.x',title='TOP 5 JOB TITLE WITH HIGHEST SALARIES',figsize=(8,6))\n",
    "print(\"\"\"TOP 5 JOB TITLE WITH HIGHEST SALARIES\"\"\")"
   ]
  },
  {
   "cell_type": "code",
   "execution_count": 119,
   "id": "30791fb0",
   "metadata": {},
   "outputs": [
    {
     "data": {
      "text/plain": [
       "Text(0.5, 1.0, 'Distribution between company_size and salary')"
      ]
     },
     "execution_count": 119,
     "metadata": {},
     "output_type": "execute_result"
    },
    {
     "data": {
      "image/png": "[encoded data removed]",
      "text/plain": [
       "<Figure size 640x480 with 1 Axes>"
      ]
     },
     "metadata": {},
     "output_type": "display_data"
    }
   ],
   "source": [
    "sns.scatterplot(x = \"company_size\", y = \"salary\", data = ds, color ='g')\n",
    "plt.title('Distribution between company_size and salary')"
   ]
  },
  {
   "cell_type": "code",
   "execution_count": 120,
   "id": "c2338466",
   "metadata": {},
   "outputs": [
    {
     "data": {
      "text/html": [
       "<div>\n",
       "<style scoped>\n",
       "    .dataframe tbody tr th:only-of-type {\n",
       "        vertical-align: middle;\n",
       "    }\n",
       "\n",
       "    .dataframe tbody tr th {\n",
       "        vertical-align: top;\n",
       "    }\n",
       "\n",
       "    .dataframe thead th {\n",
       "        text-align: right;\n",
       "    }\n",
       "</style>\n",
       "<table border=\"1\" class=\"dataframe\">\n",
       "  <thead>\n",
       "    <tr style=\"text-align: right;\">\n",
       "      <th></th>\n",
       "      <th>Unnamed: 0</th>\n",
       "      <th>work_year</th>\n",
       "      <th>salary</th>\n",
       "      <th>salary_in_usd</th>\n",
       "      <th>remote_ratio</th>\n",
       "    </tr>\n",
       "  </thead>\n",
       "  <tbody>\n",
       "    <tr>\n",
       "      <th>Unnamed: 0</th>\n",
       "      <td>3.075467e+04</td>\n",
       "      <td>107.608911</td>\n",
       "      <td>-2.606767e+07</td>\n",
       "      <td>2.078418e+06</td>\n",
       "      <td>678.217822</td>\n",
       "    </tr>\n",
       "    <tr>\n",
       "      <th>work_year</th>\n",
       "      <td>1.076089e+02</td>\n",
       "      <td>0.479048</td>\n",
       "      <td>-9.361153e+04</td>\n",
       "      <td>8.373244e+03</td>\n",
       "      <td>2.150244</td>\n",
       "    </tr>\n",
       "    <tr>\n",
       "      <th>salary</th>\n",
       "      <td>-2.606767e+07</td>\n",
       "      <td>-93611.532014</td>\n",
       "      <td>2.385040e+12</td>\n",
       "      <td>-9.194669e+09</td>\n",
       "      <td>-918426.476993</td>\n",
       "    </tr>\n",
       "    <tr>\n",
       "      <th>salary_in_usd</th>\n",
       "      <td>2.078418e+06</td>\n",
       "      <td>8373.244252</td>\n",
       "      <td>-9.194669e+09</td>\n",
       "      <td>5.034933e+09</td>\n",
       "      <td>381649.674724</td>\n",
       "    </tr>\n",
       "    <tr>\n",
       "      <th>remote_ratio</th>\n",
       "      <td>6.782178e+02</td>\n",
       "      <td>2.150244</td>\n",
       "      <td>-9.184265e+05</td>\n",
       "      <td>3.816497e+05</td>\n",
       "      <td>1657.233269</td>\n",
       "    </tr>\n",
       "  </tbody>\n",
       "</table>\n",
       "</div>"
      ],
      "text/plain": [
       "                 Unnamed: 0     work_year        salary  salary_in_usd  \\\n",
       "Unnamed: 0     3.075467e+04    107.608911 -2.606767e+07   2.078418e+06   \n",
       "work_year      1.076089e+02      0.479048 -9.361153e+04   8.373244e+03   \n",
       "salary        -2.606767e+07 -93611.532014  2.385040e+12  -9.194669e+09   \n",
       "salary_in_usd  2.078418e+06   8373.244252 -9.194669e+09   5.034933e+09   \n",
       "remote_ratio   6.782178e+02      2.150244 -9.184265e+05   3.816497e+05   \n",
       "\n",
       "                remote_ratio  \n",
       "Unnamed: 0        678.217822  \n",
       "work_year           2.150244  \n",
       "salary        -918426.476993  \n",
       "salary_in_usd  381649.674724  \n",
       "remote_ratio     1657.233269  "
      ]
     },
     "execution_count": 120,
     "metadata": {},
     "output_type": "execute_result"
    }
   ],
   "source": [
    "ds.cov()"
   ]
  },
  {
   "cell_type": "code",
   "execution_count": 121,
   "id": "b6766433",
   "metadata": {},
   "outputs": [
    {
     "data": {
      "text/html": [
       "<div>\n",
       "<style scoped>\n",
       "    .dataframe tbody tr th:only-of-type {\n",
       "        vertical-align: middle;\n",
       "    }\n",
       "\n",
       "    .dataframe tbody tr th {\n",
       "        vertical-align: top;\n",
       "    }\n",
       "\n",
       "    .dataframe thead th {\n",
       "        text-align: right;\n",
       "    }\n",
       "</style>\n",
       "<table border=\"1\" class=\"dataframe\">\n",
       "  <thead>\n",
       "    <tr style=\"text-align: right;\">\n",
       "      <th></th>\n",
       "      <th>Unnamed: 0</th>\n",
       "      <th>work_year</th>\n",
       "      <th>salary</th>\n",
       "      <th>salary_in_usd</th>\n",
       "      <th>remote_ratio</th>\n",
       "    </tr>\n",
       "  </thead>\n",
       "  <tbody>\n",
       "    <tr>\n",
       "      <th>Unnamed: 0</th>\n",
       "      <td>1.000000</td>\n",
       "      <td>0.886550</td>\n",
       "      <td>-0.096250</td>\n",
       "      <td>0.167025</td>\n",
       "      <td>0.095000</td>\n",
       "    </tr>\n",
       "    <tr>\n",
       "      <th>work_year</th>\n",
       "      <td>0.886550</td>\n",
       "      <td>1.000000</td>\n",
       "      <td>-0.087577</td>\n",
       "      <td>0.170493</td>\n",
       "      <td>0.076314</td>\n",
       "    </tr>\n",
       "    <tr>\n",
       "      <th>salary</th>\n",
       "      <td>-0.096250</td>\n",
       "      <td>-0.087577</td>\n",
       "      <td>1.000000</td>\n",
       "      <td>-0.083906</td>\n",
       "      <td>-0.014608</td>\n",
       "    </tr>\n",
       "    <tr>\n",
       "      <th>salary_in_usd</th>\n",
       "      <td>0.167025</td>\n",
       "      <td>0.170493</td>\n",
       "      <td>-0.083906</td>\n",
       "      <td>1.000000</td>\n",
       "      <td>0.132122</td>\n",
       "    </tr>\n",
       "    <tr>\n",
       "      <th>remote_ratio</th>\n",
       "      <td>0.095000</td>\n",
       "      <td>0.076314</td>\n",
       "      <td>-0.014608</td>\n",
       "      <td>0.132122</td>\n",
       "      <td>1.000000</td>\n",
       "    </tr>\n",
       "  </tbody>\n",
       "</table>\n",
       "</div>"
      ],
      "text/plain": [
       "               Unnamed: 0  work_year    salary  salary_in_usd  remote_ratio\n",
       "Unnamed: 0       1.000000   0.886550 -0.096250       0.167025      0.095000\n",
       "work_year        0.886550   1.000000 -0.087577       0.170493      0.076314\n",
       "salary          -0.096250  -0.087577  1.000000      -0.083906     -0.014608\n",
       "salary_in_usd    0.167025   0.170493 -0.083906       1.000000      0.132122\n",
       "remote_ratio     0.095000   0.076314 -0.014608       0.132122      1.000000"
      ]
     },
     "execution_count": 121,
     "metadata": {},
     "output_type": "execute_result"
    }
   ],
   "source": [
    "ds.corr()"
   ]
  },
  {
   "cell_type": "code",
   "execution_count": 122,
   "id": "3bd9198c",
   "metadata": {},
   "outputs": [
    {
     "data": {
      "text/plain": [
       "<Axes: >"
      ]
     },
     "execution_count": 122,
     "metadata": {},
     "output_type": "execute_result"
    },
    {
     "data": {
      "image/png": "[encoded data removed]",
      "text/plain": [
       "<Figure size 640x480 with 2 Axes>"
      ]
     },
     "metadata": {},
     "output_type": "display_data"
    }
   ],
   "source": [
    "sns.heatmap(ds.corr(), annot = True)"
   ]
  },
  {
   "cell_type": "markdown",
   "id": "be3484cd",
   "metadata": {},
   "source": [
    "# Machine Learning and Model Creation"
   ]
  },
  {
   "cell_type": "code",
   "execution_count": 123,
   "id": "cfb5bcf1",
   "metadata": {},
   "outputs": [],
   "source": [
    "import statsmodels.api as sm\n",
    "import scipy.stats as stats"
   ]
  },
  {
   "cell_type": "code",
   "execution_count": 124,
   "id": "f73bb7b9",
   "metadata": {},
   "outputs": [],
   "source": [
    "import sklearn as sk"
   ]
  },
  {
   "cell_type": "code",
   "execution_count": 125,
   "id": "c70b2316",
   "metadata": {},
   "outputs": [],
   "source": [
    "target = ds['salary_in_usd']\n",
    "x = ds.drop (['salary_in_usd','work_year'], axis = 1)"
   ]
  },
  {
   "cell_type": "code",
   "execution_count": 126,
   "id": "d3574667",
   "metadata": {},
   "outputs": [
    {
     "data": {
      "text/html": [
       "<div>\n",
       "<style scoped>\n",
       "    .dataframe tbody tr th:only-of-type {\n",
       "        vertical-align: middle;\n",
       "    }\n",
       "\n",
       "    .dataframe tbody tr th {\n",
       "        vertical-align: top;\n",
       "    }\n",
       "\n",
       "    .dataframe thead th {\n",
       "        text-align: right;\n",
       "    }\n",
       "</style>\n",
       "<table border=\"1\" class=\"dataframe\">\n",
       "  <thead>\n",
       "    <tr style=\"text-align: right;\">\n",
       "      <th></th>\n",
       "      <th>Unnamed: 0</th>\n",
       "      <th>salary</th>\n",
       "      <th>remote_ratio</th>\n",
       "      <th>experience_level_EN</th>\n",
       "      <th>experience_level_EX</th>\n",
       "      <th>experience_level_MI</th>\n",
       "      <th>experience_level_SE</th>\n",
       "      <th>employment_type_CT</th>\n",
       "      <th>employment_type_FL</th>\n",
       "      <th>employment_type_FT</th>\n",
       "      <th>...</th>\n",
       "      <th>company_location_RU</th>\n",
       "      <th>company_location_SG</th>\n",
       "      <th>company_location_SI</th>\n",
       "      <th>company_location_TR</th>\n",
       "      <th>company_location_UA</th>\n",
       "      <th>company_location_US</th>\n",
       "      <th>company_location_VN</th>\n",
       "      <th>company_size_L</th>\n",
       "      <th>company_size_M</th>\n",
       "      <th>company_size_S</th>\n",
       "    </tr>\n",
       "  </thead>\n",
       "  <tbody>\n",
       "    <tr>\n",
       "      <th>0</th>\n",
       "      <td>0</td>\n",
       "      <td>70000</td>\n",
       "      <td>0</td>\n",
       "      <td>0</td>\n",
       "      <td>0</td>\n",
       "      <td>1</td>\n",
       "      <td>0</td>\n",
       "      <td>0</td>\n",
       "      <td>0</td>\n",
       "      <td>1</td>\n",
       "      <td>...</td>\n",
       "      <td>0</td>\n",
       "      <td>0</td>\n",
       "      <td>0</td>\n",
       "      <td>0</td>\n",
       "      <td>0</td>\n",
       "      <td>0</td>\n",
       "      <td>0</td>\n",
       "      <td>1</td>\n",
       "      <td>0</td>\n",
       "      <td>0</td>\n",
       "    </tr>\n",
       "    <tr>\n",
       "      <th>1</th>\n",
       "      <td>1</td>\n",
       "      <td>260000</td>\n",
       "      <td>0</td>\n",
       "      <td>0</td>\n",
       "      <td>0</td>\n",
       "      <td>0</td>\n",
       "      <td>1</td>\n",
       "      <td>0</td>\n",
       "      <td>0</td>\n",
       "      <td>1</td>\n",
       "      <td>...</td>\n",
       "      <td>0</td>\n",
       "      <td>0</td>\n",
       "      <td>0</td>\n",
       "      <td>0</td>\n",
       "      <td>0</td>\n",
       "      <td>0</td>\n",
       "      <td>0</td>\n",
       "      <td>0</td>\n",
       "      <td>0</td>\n",
       "      <td>1</td>\n",
       "    </tr>\n",
       "    <tr>\n",
       "      <th>2</th>\n",
       "      <td>2</td>\n",
       "      <td>85000</td>\n",
       "      <td>50</td>\n",
       "      <td>0</td>\n",
       "      <td>0</td>\n",
       "      <td>0</td>\n",
       "      <td>1</td>\n",
       "      <td>0</td>\n",
       "      <td>0</td>\n",
       "      <td>1</td>\n",
       "      <td>...</td>\n",
       "      <td>0</td>\n",
       "      <td>0</td>\n",
       "      <td>0</td>\n",
       "      <td>0</td>\n",
       "      <td>0</td>\n",
       "      <td>0</td>\n",
       "      <td>0</td>\n",
       "      <td>0</td>\n",
       "      <td>1</td>\n",
       "      <td>0</td>\n",
       "    </tr>\n",
       "    <tr>\n",
       "      <th>3</th>\n",
       "      <td>3</td>\n",
       "      <td>20000</td>\n",
       "      <td>0</td>\n",
       "      <td>0</td>\n",
       "      <td>0</td>\n",
       "      <td>1</td>\n",
       "      <td>0</td>\n",
       "      <td>0</td>\n",
       "      <td>0</td>\n",
       "      <td>1</td>\n",
       "      <td>...</td>\n",
       "      <td>0</td>\n",
       "      <td>0</td>\n",
       "      <td>0</td>\n",
       "      <td>0</td>\n",
       "      <td>0</td>\n",
       "      <td>0</td>\n",
       "      <td>0</td>\n",
       "      <td>0</td>\n",
       "      <td>0</td>\n",
       "      <td>1</td>\n",
       "    </tr>\n",
       "    <tr>\n",
       "      <th>4</th>\n",
       "      <td>4</td>\n",
       "      <td>150000</td>\n",
       "      <td>50</td>\n",
       "      <td>0</td>\n",
       "      <td>0</td>\n",
       "      <td>0</td>\n",
       "      <td>1</td>\n",
       "      <td>0</td>\n",
       "      <td>0</td>\n",
       "      <td>1</td>\n",
       "      <td>...</td>\n",
       "      <td>0</td>\n",
       "      <td>0</td>\n",
       "      <td>0</td>\n",
       "      <td>0</td>\n",
       "      <td>0</td>\n",
       "      <td>1</td>\n",
       "      <td>0</td>\n",
       "      <td>1</td>\n",
       "      <td>0</td>\n",
       "      <td>0</td>\n",
       "    </tr>\n",
       "  </tbody>\n",
       "</table>\n",
       "<p>5 rows × 188 columns</p>\n",
       "</div>"
      ],
      "text/plain": [
       "   Unnamed: 0  salary  remote_ratio  experience_level_EN  experience_level_EX  \\\n",
       "0           0   70000             0                    0                    0   \n",
       "1           1  260000             0                    0                    0   \n",
       "2           2   85000            50                    0                    0   \n",
       "3           3   20000             0                    0                    0   \n",
       "4           4  150000            50                    0                    0   \n",
       "\n",
       "   experience_level_MI  experience_level_SE  employment_type_CT  \\\n",
       "0                    1                    0                   0   \n",
       "1                    0                    1                   0   \n",
       "2                    0                    1                   0   \n",
       "3                    1                    0                   0   \n",
       "4                    0                    1                   0   \n",
       "\n",
       "   employment_type_FL  employment_type_FT  ...  company_location_RU  \\\n",
       "0                   0                   1  ...                    0   \n",
       "1                   0                   1  ...                    0   \n",
       "2                   0                   1  ...                    0   \n",
       "3                   0                   1  ...                    0   \n",
       "4                   0                   1  ...                    0   \n",
       "\n",
       "   company_location_SG  company_location_SI  company_location_TR  \\\n",
       "0                    0                    0                    0   \n",
       "1                    0                    0                    0   \n",
       "2                    0                    0                    0   \n",
       "3                    0                    0                    0   \n",
       "4                    0                    0                    0   \n",
       "\n",
       "   company_location_UA  company_location_US  company_location_VN  \\\n",
       "0                    0                    0                    0   \n",
       "1                    0                    0                    0   \n",
       "2                    0                    0                    0   \n",
       "3                    0                    0                    0   \n",
       "4                    0                    1                    0   \n",
       "\n",
       "   company_size_L  company_size_M  company_size_S  \n",
       "0               1               0               0  \n",
       "1               0               0               1  \n",
       "2               0               1               0  \n",
       "3               0               0               1  \n",
       "4               1               0               0  \n",
       "\n",
       "[5 rows x 188 columns]"
      ]
     },
     "execution_count": 126,
     "metadata": {},
     "output_type": "execute_result"
    }
   ],
   "source": [
    "x= pd.get_dummies(x)\n",
    "x.head()                           #it converts categorical features to numerical features for machine learning"
   ]
  },
  {
   "cell_type": "code",
   "execution_count": 127,
   "id": "d7a9cd53",
   "metadata": {},
   "outputs": [],
   "source": [
    "from sklearn.preprocessing import StandardScaler \n",
    "#it reduces the dimensionality of the dataset and get a common mean"
   ]
  },
  {
   "cell_type": "code",
   "execution_count": 128,
   "id": "892877c7",
   "metadata": {},
   "outputs": [
    {
     "data": {
      "text/plain": [
       "array([[-1.72919969, -0.16460538, -1.74361532, ...,  1.43723922,\n",
       "        -1.07709904, -0.39799114],\n",
       "       [-1.72349276, -0.0414754 , -1.74361532, ..., -0.6957784 ,\n",
       "        -1.07709904,  2.51261876],\n",
       "       [-1.71778583, -0.15488459, -0.51437665, ..., -0.6957784 ,\n",
       "         0.92841973, -0.39799114],\n",
       "       ...,\n",
       "       [ 1.71778583, -0.12637028, -1.74361532, ..., -0.6957784 ,\n",
       "         0.92841973, -0.39799114],\n",
       "       [ 1.72349276, -0.11276118,  0.71486203, ..., -0.6957784 ,\n",
       "         0.92841973, -0.39799114],\n",
       "       [ 1.72919969, -0.08035855,  0.71486203, ...,  1.43723922,\n",
       "        -1.07709904, -0.39799114]])"
      ]
     },
     "execution_count": 128,
     "metadata": {},
     "output_type": "execute_result"
    }
   ],
   "source": [
    "scaler = StandardScaler()\n",
    "x = scaler.fit_transform(x)\n",
    "x"
   ]
  },
  {
   "cell_type": "code",
   "execution_count": 129,
   "id": "9d4d429f",
   "metadata": {},
   "outputs": [],
   "source": [
    "from sklearn.model_selection import train_test_split"
   ]
  },
  {
   "cell_type": "code",
   "execution_count": 130,
   "id": "323691b9",
   "metadata": {},
   "outputs": [],
   "source": [
    "x_train, x_test, y_train, y_test = train_test_split (x, target, test_size = 0.2, random_state = 4)"
   ]
  },
  {
   "cell_type": "code",
   "execution_count": 131,
   "id": "be83f556",
   "metadata": {},
   "outputs": [],
   "source": [
    "from sklearn.linear_model import LinearRegression"
   ]
  },
  {
   "cell_type": "code",
   "execution_count": 132,
   "id": "eecd2506",
   "metadata": {},
   "outputs": [],
   "source": [
    "model = LinearRegression()"
   ]
  },
  {
   "cell_type": "code",
   "execution_count": 133,
   "id": "66334686",
   "metadata": {},
   "outputs": [
    {
     "data": {
      "text/html": [
       "<style>#sk-container-id-2 {color: black;background-color: white;}#sk-container-id-2 pre{padding: 0;}#sk-container-id-2 div.sk-toggleable {background-color: white;}#sk-container-id-2 label.sk-toggleable__label {cursor: pointer;display: block;width: 100%;margin-bottom: 0;padding: 0.3em;box-sizing: border-box;text-align: center;}#sk-container-id-2 label.sk-toggleable__label-arrow:before {content: \"▸\";float: left;margin-right: 0.25em;color: #696969;}#sk-container-id-2 label.sk-toggleable__label-arrow:hover:before {color: black;}#sk-container-id-2 div.sk-estimator:hover label.sk-toggleable__label-arrow:before {color: black;}#sk-container-id-2 div.sk-toggleable__content {max-height: 0;max-width: 0;overflow: hidden;text-align: left;background-color: #f0f8ff;}#sk-container-id-2 div.sk-toggleable__content pre {margin: 0.2em;color: black;border-radius: 0.25em;background-color: #f0f8ff;}#sk-container-id-2 input.sk-toggleable__control:checked~div.sk-toggleable__content {max-height: 200px;max-width: 100%;overflow: auto;}#sk-container-id-2 input.sk-toggleable__control:checked~label.sk-toggleable__label-arrow:before {content: \"▾\";}#sk-container-id-2 div.sk-estimator input.sk-toggleable__control:checked~label.sk-toggleable__label {background-color: #d4ebff;}#sk-container-id-2 div.sk-label input.sk-toggleable__control:checked~label.sk-toggleable__label {background-color: #d4ebff;}#sk-container-id-2 input.sk-hidden--visually {border: 0;clip: rect(1px 1px 1px 1px);clip: rect(1px, 1px, 1px, 1px);height: 1px;margin: -1px;overflow: hidden;padding: 0;position: absolute;width: 1px;}#sk-container-id-2 div.sk-estimator {font-family: monospace;background-color: #f0f8ff;border: 1px dotted black;border-radius: 0.25em;box-sizing: border-box;margin-bottom: 0.5em;}#sk-container-id-2 div.sk-estimator:hover {background-color: #d4ebff;}#sk-container-id-2 div.sk-parallel-item::after {content: \"\";width: 100%;border-bottom: 1px solid gray;flex-grow: 1;}#sk-container-id-2 div.sk-label:hover label.sk-toggleable__label {background-color: #d4ebff;}#sk-container-id-2 div.sk-serial::before {content: \"\";position: absolute;border-left: 1px solid gray;box-sizing: border-box;top: 0;bottom: 0;left: 50%;z-index: 0;}#sk-container-id-2 div.sk-serial {display: flex;flex-direction: column;align-items: center;background-color: white;padding-right: 0.2em;padding-left: 0.2em;position: relative;}#sk-container-id-2 div.sk-item {position: relative;z-index: 1;}#sk-container-id-2 div.sk-parallel {display: flex;align-items: stretch;justify-content: center;background-color: white;position: relative;}#sk-container-id-2 div.sk-item::before, #sk-container-id-2 div.sk-parallel-item::before {content: \"\";position: absolute;border-left: 1px solid gray;box-sizing: border-box;top: 0;bottom: 0;left: 50%;z-index: -1;}#sk-container-id-2 div.sk-parallel-item {display: flex;flex-direction: column;z-index: 1;position: relative;background-color: white;}#sk-container-id-2 div.sk-parallel-item:first-child::after {align-self: flex-end;width: 50%;}#sk-container-id-2 div.sk-parallel-item:last-child::after {align-self: flex-start;width: 50%;}#sk-container-id-2 div.sk-parallel-item:only-child::after {width: 0;}#sk-container-id-2 div.sk-dashed-wrapped {border: 1px dashed gray;margin: 0 0.4em 0.5em 0.4em;box-sizing: border-box;padding-bottom: 0.4em;background-color: white;}#sk-container-id-2 div.sk-label label {font-family: monospace;font-weight: bold;display: inline-block;line-height: 1.2em;}#sk-container-id-2 div.sk-label-container {text-align: center;}#sk-container-id-2 div.sk-container {/* jupyter's `normalize.less` sets `[hidden] { display: none; }` but bootstrap.min.css set `[hidden] { display: none !important; }` so we also need the `!important` here to be able to override the default hidden behavior on the sphinx rendered scikit-learn.org. See: https://github.com/scikit-learn/scikit-learn/issues/21755 */display: inline-block !important;position: relative;}#sk-container-id-2 div.sk-text-repr-fallback {display: none;}</style><div id=\"sk-container-id-2\" class=\"sk-top-container\"><div class=\"sk-text-repr-fallback\"><pre>LinearRegression()</pre><b>In a Jupyter environment, please rerun this cell to show the HTML representation or trust the notebook. <br />On GitHub, the HTML representation is unable to render, please try loading this page with nbviewer.org.</b></div><div class=\"sk-container\" hidden><div class=\"sk-item\"><div class=\"sk-estimator sk-toggleable\"><input class=\"sk-toggleable__control sk-hidden--visually\" id=\"sk-estimator-id-2\" type=\"checkbox\" checked><label for=\"sk-estimator-id-2\" class=\"sk-toggleable__label sk-toggleable__label-arrow\">LinearRegression</label><div class=\"sk-toggleable__content\"><pre>LinearRegression()</pre></div></div></div></div></div>"
      ],
      "text/plain": [
       "LinearRegression()"
      ]
     },
     "execution_count": 133,
     "metadata": {},
     "output_type": "execute_result"
    }
   ],
   "source": [
    "model.fit(x_train, y_train)"
   ]
  },
  {
   "cell_type": "code",
   "execution_count": 134,
   "id": "0208f00e",
   "metadata": {},
   "outputs": [
    {
     "name": "stdout",
     "output_type": "stream",
     "text": [
      "7.623693148180432e+16\n",
      "[-2.68585131e+03  2.65290214e+04  3.29748870e+02 -7.85404838e+15\n",
      " -4.51692934e+15 -1.06464905e+16 -1.11204266e+16 -5.76980485e+17\n",
      " -5.16495484e+17 -1.11158670e+18 -8.12577967e+17 -4.88730392e+16\n",
      " -1.28664187e+17 -9.75038324e+16 -1.08922169e+17 -9.75038324e+16\n",
      " -1.19219116e+17 -4.88730392e+16 -1.37433131e+17 -1.08922169e+17\n",
      " -6.90598641e+16 -1.19219116e+17 -8.45107841e+16 -4.41574504e+17\n",
      " -9.75038324e+16 -4.88730392e+16 -1.28664187e+17 -1.60750565e+17\n",
      " -4.97126375e+17 -1.08922169e+17 -1.28664187e+17 -8.45107841e+16\n",
      " -1.67757575e+17 -5.11399199e+17 -4.88730392e+16 -6.90598641e+16\n",
      " -1.28664187e+17 -6.90598641e+16 -4.88730392e+16 -6.90598641e+16\n",
      " -1.08922169e+17 -9.75038324e+16 -4.88730392e+16 -8.45107841e+16\n",
      " -1.19219116e+17 -8.45107841e+16 -4.88730392e+16 -1.19219116e+17\n",
      " -8.45107841e+16 -3.02435786e+17 -8.45107841e+16 -4.88730392e+16\n",
      " -1.37433131e+17  2.35195527e+17  3.30648567e+17 -6.90598641e+16\n",
      " -8.45107841e+16 -1.28664187e+17 -6.90598641e+16 -1.93057539e+17\n",
      " -4.88730392e+16  1.59909322e+17  1.59909322e+17  4.73341952e+17\n",
      " -7.78326655e+17  2.05249857e+17 -3.76372255e+17 -2.35709257e+15\n",
      "  1.01385975e+18  7.23538480e+17  6.05208090e+17  5.75276954e+17\n",
      "  1.95686198e+17  2.77230708e+17  1.95686198e+17  4.13745175e+17\n",
      " -2.38162484e+18  1.32585422e+18  1.60713107e+18 -8.91827513e+17\n",
      " -1.09795704e+17  6.31524270e+17 -4.72216793e+17 -1.79494813e+17\n",
      " -6.34954438e+16 -1.54888478e+17 -3.33940558e+17 -9.28835493e+17\n",
      "  1.08611881e+18 -1.15600130e+17 -1.03814812e+18 -5.85488366e+17\n",
      " -3.11127033e+17  4.73946436e+17  9.37197606e+17 -9.23293003e+17\n",
      " -2.43059575e+17 -2.65582926e+17 -4.05963312e+17 -2.26658051e+17\n",
      " -6.34954438e+16 -6.60038750e+16  8.72488614e+17 -5.35020766e+17\n",
      " -7.38064691e+16 -3.39355416e+17 -1.22664145e+18 -6.99981333e+17\n",
      " -1.26676164e+17 -4.95121736e+17  2.74601621e+17  4.76761595e+18\n",
      " -6.34954438e+16  1.29873295e+17  4.03728902e+17 -1.37751490e+18\n",
      " -6.34954438e+16 -2.27033176e+18 -1.41510772e+17 -6.93927800e+16\n",
      " -6.34954438e+16 -1.54888478e+17 -1.26676164e+17  1.31466755e+18\n",
      " -1.54888478e+17 -8.97219980e+16 -6.34954438e+16 -1.26676164e+17\n",
      " -1.24146174e+18 -5.55233172e+17 -5.85488366e+17  1.50867295e+18\n",
      "  1.22850328e+18 -7.79366330e+17 -1.09795704e+17 -1.76092481e+18\n",
      " -2.54443025e+16 -5.07624868e+16 -7.85318014e+17  3.46540819e+17\n",
      " -4.39980404e+16 -1.35988684e+17  7.85127196e+17 -1.26714204e+18\n",
      "  5.73953932e+17  1.54543201e+17  7.01646160e+17 -1.31605044e+17\n",
      " -5.35206643e+17 -1.02613735e+18  8.34353256e+17 -9.41771627e+16\n",
      " -9.74003955e+16 -1.67686145e+17 -8.36900274e+16  1.54543201e+17\n",
      " -9.61428360e+17 -2.54443025e+16 -1.51332772e+16  6.09994132e+17\n",
      " -1.22262743e+17  1.13770171e+18  6.11041586e+17 -3.59539759e+16\n",
      " -4.71399856e+17 -4.85655570e+18 -4.39980404e+16 -2.18813041e+17\n",
      " -4.92668649e+17  1.38834572e+18 -1.93247061e+17  2.14465579e+18\n",
      " -5.07624868e+16 -1.95469663e+16 -4.39980404e+16 -5.07624868e+16\n",
      " -5.07624868e+16  1.49023801e+17 -3.59539759e+16  6.09994132e+17\n",
      "  4.29557198e+17  9.14844348e+17  1.54543201e+17 -3.09149597e+17\n",
      "  1.54543201e+17  1.65634228e+17  1.76164258e+17  1.21383744e+17]\n"
     ]
    }
   ],
   "source": [
    "#print the coefficient and intercept, where each coeffiecient represent each column\n",
    "print(model.intercept_)\n",
    "print(model.coef_)"
   ]
  },
  {
   "cell_type": "code",
   "execution_count": 135,
   "id": "484593d9",
   "metadata": {},
   "outputs": [
    {
     "name": "stdout",
     "output_type": "stream",
     "text": [
      "0.6775042678628052\n"
     ]
    }
   ],
   "source": [
    "#to compute the r squared score, r squared close to 1 is good\n",
    "print(model.score(x_train,y_train))"
   ]
  },
  {
   "cell_type": "code",
   "execution_count": 136,
   "id": "9ab8d836",
   "metadata": {},
   "outputs": [],
   "source": [
    "# To check our prediction\n",
    "predictions = model.predict(x_test)"
   ]
  },
  {
   "cell_type": "code",
   "execution_count": 137,
   "id": "64c90a06",
   "metadata": {},
   "outputs": [
    {
     "data": {
      "text/plain": [
       "array([ 1.31616000e+05,  3.39823152e+19,  6.19840000e+04,  1.20864000e+05,\n",
       "        1.21120000e+05,  1.05760000e+05,  7.35040000e+04,  7.81120000e+04,\n",
       "        1.76608000e+05,  9.34080000e+04,  1.21376000e+05,  1.49856000e+05,\n",
       "        1.62592000e+05,  3.81760000e+04,  1.27072000e+05,  1.21632000e+05,\n",
       "        3.62957793e+19,  1.24000000e+05,  1.61376000e+05,  1.47296000e+05,\n",
       "        9.78240000e+04,  5.02080000e+04,  1.51392000e+05, -5.19360000e+04,\n",
       "        3.81760000e+04,  1.01024000e+05,  1.52096000e+05,  8.91200000e+04,\n",
       "        4.43807598e+18,  1.64896000e+05,  1.50368000e+05,  1.18080000e+04,\n",
       "        1.57472000e+05,  1.10048000e+05,  1.30656000e+05,  1.24192000e+05,\n",
       "        1.48064000e+05,  2.25248000e+05,  1.61312000e+05,  1.54848000e+05,\n",
       "        7.89440000e+04,  1.50880000e+05,  1.63360000e+05,  5.40480000e+04,\n",
       "        3.76640000e+04,  1.54976000e+05,  1.64448000e+05,  5.02080000e+04,\n",
       "        5.15200000e+04,  1.19840000e+05,  8.29760000e+04, -2.89915591e+19,\n",
       "        9.52640000e+04,  1.47808000e+05, -2.86027643e+18,  1.16832000e+05,\n",
       "        1.28544000e+05,  1.59520000e+05,  1.13120000e+05, -1.95946071e+19,\n",
       "        1.13696000e+05,  1.65728000e+05,  2.05120000e+04,  1.79520000e+04,\n",
       "        1.50112000e+05,  1.42304000e+05,  1.66752000e+05,  1.50368000e+05,\n",
       "        9.14240000e+04,  7.34400000e+04,  1.03392000e+05,  1.35712000e+05,\n",
       "        1.26560000e+05,  4.30198033e+18,  1.63872000e+05,  1.11264000e+05,\n",
       "        1.30720000e+05,  1.18080000e+04, -6.62400000e+03,  1.81536000e+05,\n",
       "        4.37622386e+18, -1.32800000e+04,  9.91040000e+04,  1.30592000e+05,\n",
       "        1.26880000e+05,  1.42048000e+05,  1.43278854e+19,  9.88480000e+04,\n",
       "        1.63360000e+05,  1.61888000e+05,  1.60032000e+05,  1.59328000e+05,\n",
       "        6.93440000e+04,  2.03040000e+05,  6.37760000e+04,  1.09984000e+05,\n",
       "        5.50720000e+04,  1.48320000e+05,  1.47808000e+05,  1.21888000e+05,\n",
       "        1.61568000e+05,  1.48320000e+05,  1.46784000e+05,  4.66240000e+04,\n",
       "        1.01920000e+05,  8.09280000e+04,  1.70784000e+05,  1.24256000e+05,\n",
       "        1.74368000e+05,  1.04736000e+05,  1.47808000e+05, -3.98400000e+04,\n",
       "        9.98720000e+04,  2.38624000e+05,  1.72064000e+05,  2.29920000e+05,\n",
       "        1.52928000e+05,  1.24448000e+05,  7.81120000e+04,  1.63616000e+05,\n",
       "        1.61824000e+05, -2.99520000e+04])"
      ]
     },
     "execution_count": 137,
     "metadata": {},
     "output_type": "execute_result"
    }
   ],
   "source": [
    "predictions"
   ]
  },
  {
   "cell_type": "code",
   "execution_count": 138,
   "id": "79af0038",
   "metadata": {},
   "outputs": [],
   "source": [
    "from sklearn.metrics import r2_score,mean_absolute_error,mean_squared_error"
   ]
  },
  {
   "cell_type": "code",
   "execution_count": 139,
   "id": "9ca86ea1",
   "metadata": {},
   "outputs": [],
   "source": [
    "score=r2_score(predictions,y_test)\n",
    "mae= mean_absolute_error(predictions,y_test)\n",
    "mse= mean_squared_error(predictions,y_test)\n",
    "rmse=np.sqrt(mse)"
   ]
  },
  {
   "cell_type": "code",
   "execution_count": 140,
   "id": "9927f400",
   "metadata": {},
   "outputs": [
    {
     "name": "stdout",
     "output_type": "stream",
     "text": [
      "-0.004443865965757077\n",
      "1.2226942844124096e+18\n",
      "3.2520203586467025e+37\n",
      "5.702648821948186e+18\n"
     ]
    }
   ],
   "source": [
    "print(score)\n",
    "print(mae)\n",
    "print(mse)\n",
    "print(rmse)\n",
    "#this model is poor, we'll try another model"
   ]
  },
  {
   "cell_type": "markdown",
   "id": "4c46a8a8",
   "metadata": {},
   "source": [
    "# Trying out XGBoost"
   ]
  },
  {
   "cell_type": "code",
   "execution_count": 141,
   "id": "06fe1989",
   "metadata": {},
   "outputs": [
    {
     "data": {
      "text/plain": [
       "array([ 70327.41  , 160983.81  ,  70223.07  , 104777.3   ,  99373.5   ,\n",
       "        98133.71  ,  28060.89  , 114942.9   , 417962.56  , 135266.47  ,\n",
       "       152718.92  , 101511.99  , 183534.52  ,  78275.6   , 111524.87  ,\n",
       "       115011.836 ,  16279.843 ,  80021.99  , 155299.42  , 153022.1   ,\n",
       "        52233.562 ,  50424.    , 182777.1   ,  20030.691 ,  87904.44  ,\n",
       "       112771.62  , 154013.4   ,  54395.977 ,   4462.7314, 209002.44  ,\n",
       "       172493.67  ,  29622.145 ,  80853.664 , 104794.52  , 120278.97  ,\n",
       "       128132.3   ,  79779.02  , 222754.5   , 171780.02  , 170146.36  ,\n",
       "        49491.164 , 128235.33  , 122590.58  ,  44954.473 ,  50197.87  ,\n",
       "       150619.62  , 119760.6   ,  63325.99  ,  38509.016 ,  99451.734 ,\n",
       "        57014.87  , 112239.766 ,  73428.15  , 114386.81  ,  85662.05  ,\n",
       "       122999.984 ,  87960.21  , 140175.98  , 268290.16  ,  24586.307 ,\n",
       "        70998.586 , 212456.4   ,  61056.434 ,  81513.91  , 132206.33  ,\n",
       "       130840.38  , 188918.19  ,  93502.625 ,  36798.402 ,  76316.76  ,\n",
       "        93327.64  , 102096.67  , 105128.33  ,  62896.895 , 119597.73  ,\n",
       "        81082.586 ,  97641.81  ,  68649.46  ,  22419.842 , 222976.17  ,\n",
       "        20558.475 ,  10440.293 , 121323.664 ,  66327.62  ,  79957.69  ,\n",
       "       172957.23  ,  10874.49  ,  61993.535 , 138286.1   , 160925.81  ,\n",
       "       171994.17  , 154057.64  ,  63912.88  , 131295.6   ,  48115.57  ,\n",
       "        80087.9   ,  55360.22  , 101015.06  , 131392.84  , 134950.02  ,\n",
       "       209949.22  , 160853.75  , 102876.58  ,  30684.635 , 167552.42  ,\n",
       "        54915.047 , 165177.23  , 205560.53  , 209189.45  ,  71815.74  ,\n",
       "       131489.36  ,  90945.44  ,  51966.12  , 136841.25  , 213095.31  ,\n",
       "       326790.94  , 241399.53  , 114383.336 ,  50828.74  ,  99141.58  ,\n",
       "       139818.22  ,   7737.4346], dtype=float32)"
      ]
     },
     "execution_count": 141,
     "metadata": {},
     "output_type": "execute_result"
    }
   ],
   "source": [
    "from xgboost import XGBRegressor\n",
    "\n",
    "XGB = XGBRegressor()\n",
    "\n",
    "XGB.fit(x_train, y_train)\n",
    "\n",
    "predictions = XGB.predict(x_test)\n",
    "predictions"
   ]
  },
  {
   "cell_type": "markdown",
   "id": "033f1532",
   "metadata": {},
   "source": [
    "# Evaluating Model Performace"
   ]
  },
  {
   "cell_type": "code",
   "execution_count": 142,
   "id": "3824a1f1",
   "metadata": {},
   "outputs": [
    {
     "data": {
      "text/plain": [
       "0.9393134985513469"
      ]
     },
     "execution_count": 142,
     "metadata": {},
     "output_type": "execute_result"
    }
   ],
   "source": [
    "r2_score(y_test, predictions)"
   ]
  },
  {
   "cell_type": "code",
   "execution_count": 143,
   "id": "2b968a83",
   "metadata": {},
   "outputs": [
    {
     "data": {
      "text/plain": [
       "4894.482045658299"
      ]
     },
     "execution_count": 143,
     "metadata": {},
     "output_type": "execute_result"
    }
   ],
   "source": [
    "mean_absolute_error(y_test, predictions)"
   ]
  },
  {
   "cell_type": "code",
   "execution_count": 144,
   "id": "022dd608",
   "metadata": {},
   "outputs": [
    {
     "data": {
      "text/plain": [
       "274915244.9641491"
      ]
     },
     "execution_count": 144,
     "metadata": {},
     "output_type": "execute_result"
    }
   ],
   "source": [
    "mean_squared_error(y_test, predictions)"
   ]
  },
  {
   "cell_type": "code",
   "execution_count": 145,
   "id": "0ac63f43",
   "metadata": {},
   "outputs": [
    {
     "data": {
      "text/plain": [
       "16580.568294366425"
      ]
     },
     "execution_count": 145,
     "metadata": {},
     "output_type": "execute_result"
    }
   ],
   "source": [
    "np.sqrt(mean_squared_error(y_test, predictions))"
   ]
  },
  {
   "cell_type": "code",
   "execution_count": null,
   "id": "e8714843",
   "metadata": {},
   "outputs": [],
   "source": []
  }
 ],
 "metadata": {
  "kernelspec": {
   "display_name": "Python 3 (ipykernel)",
   "language": "python",
   "name": "python3"
  },
  "language_info": {
   "codemirror_mode": {
    "name": "ipython",
    "version": 3
   },
   "file_extension": ".py",
   "mimetype": "text/x-python",
   "name": "python",
   "nbconvert_exporter": "python",
   "pygments_lexer": "ipython3",
   "version": "3.10.9"
  }
 },
 "nbformat": 4,
 "nbformat_minor": 5
}
